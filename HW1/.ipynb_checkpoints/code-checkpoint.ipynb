{
 "cells": [
  {
   "cell_type": "code",
   "execution_count": 1,
   "metadata": {},
   "outputs": [],
   "source": [
    "import numpy as np\n",
    "import matplotlib.pyplot as plt\n",
    "from tqdm import tqdm_notebook as tqdm"
   ]
  },
  {
   "cell_type": "code",
   "execution_count": 2,
   "metadata": {},
   "outputs": [],
   "source": [
    "val = np.random.random()"
   ]
  },
  {
   "cell_type": "markdown",
   "metadata": {},
   "source": [
    "# Q1 Figure 2.5"
   ]
  },
  {
   "cell_type": "markdown",
   "metadata": {},
   "source": [
    "## (i) Sample Average"
   ]
  },
  {
   "cell_type": "code",
   "execution_count": 50,
   "metadata": {},
   "outputs": [
    {
     "data": {
      "application/vnd.jupyter.widget-view+json": {
       "model_id": "3dc005e352964eaab939405cb5dba297",
       "version_major": 2,
       "version_minor": 0
      },
      "text/plain": [
       "HBox(children=(IntProgress(value=0, max=2000), HTML(value='')))"
      ]
     },
     "metadata": {},
     "output_type": "display_data"
    },
    {
     "name": "stdout",
     "output_type": "stream",
     "text": [
      "\n"
     ]
    }
   ],
   "source": [
    "RUNS = 2000\n",
    "STEPS = 10000\n",
    "ACTIONS = 10\n",
    "avg = np.zeros(STEPS)\n",
    "# optimalavg = np.zeros(STEPS)\n",
    "optimal_per_step = np.zeros(STEPS)\n",
    "\n",
    "\n",
    "for run in tqdm(range(1,RUNS+1)):\n",
    "    q = np.zeros(ACTIONS)\n",
    "    rewards = np.zeros(STEPS)\n",
    "    n_a = np.ones(ACTIONS)\n",
    "    optimal_percentage = 0\n",
    "    actionvals = np.full(ACTIONS,val)   # (Q*)\n",
    "    optimals = []\n",
    "    for step in range(STEPS):\n",
    "        option = 0\n",
    "        selection = np.random.uniform(0,1)\n",
    "        if(selection<.1):\n",
    "            option=1\n",
    "        action = 0\n",
    "        if(option==0):\n",
    "            action = np.argmax(q)  #Exploit\n",
    "        else:\n",
    "            action = np.random.randint(ACTIONS)  #Explore\n",
    "        \n",
    "        reward = np.random.normal(actionvals[action],1)\n",
    "        \n",
    "        q[action] = q[action] + 1/n_a[action]*(reward - q[action])      #Updating our estimate of reward\n",
    "        n_a[action]+=1\n",
    "        actionvals = actionvals + np.random.normal(0,.01,ACTIONS)\n",
    "        rewards[step] = reward\n",
    "        optimal = np.argmax(actionvals)\n",
    "        \n",
    "\n",
    "        \n",
    "        if(optimal == action):\n",
    "            optimal_per_step[step]+=1\n",
    "        \n",
    "    avg += rewards\n",
    "\n",
    "sample_average = avg/RUNS\n",
    "# optimal_percentage1 = optimalavg/RUNS\n",
    "optimal_per_step_sa = optimal_per_step/RUNS"
   ]
  },
  {
   "cell_type": "markdown",
   "metadata": {},
   "source": [
    "## (ii) Constant step size"
   ]
  },
  {
   "cell_type": "code",
   "execution_count": 51,
   "metadata": {},
   "outputs": [
    {
     "data": {
      "application/vnd.jupyter.widget-view+json": {
       "model_id": "6cd6980fe6d14aafa3d68fbf61a3fd82",
       "version_major": 2,
       "version_minor": 0
      },
      "text/plain": [
       "HBox(children=(IntProgress(value=0, max=2000), HTML(value='')))"
      ]
     },
     "metadata": {},
     "output_type": "display_data"
    },
    {
     "name": "stdout",
     "output_type": "stream",
     "text": [
      "\n"
     ]
    }
   ],
   "source": [
    "RUNS = 2000\n",
    "STEPS = 10000\n",
    "ACTIONS = 10\n",
    "avg = np.zeros(STEPS)\n",
    "optimalavg = np.zeros(STEPS)\n",
    "optimal_per_step = np.zeros(STEPS)\n",
    "\n",
    "\n",
    "for run in tqdm(range(1,RUNS+1)):\n",
    "    q = np.zeros(ACTIONS)\n",
    "    rewards = np.zeros(STEPS)\n",
    "    n_a = np.ones(ACTIONS)\n",
    "    optimal_percentage = 0\n",
    "    actionvals = np.full(ACTIONS,val)\n",
    "    optimals = []\n",
    "    for step in range(STEPS):\n",
    "        option = 0\n",
    "        selection = np.random.uniform(0,1)\n",
    "        if(selection<.1):\n",
    "            option=1\n",
    "        action = 0\n",
    "        if(option==0):\n",
    "            action = np.argmax(q)  #Exploit\n",
    "        else:\n",
    "            action = np.random.randint(ACTIONS)  #Explore\n",
    "        \n",
    "        reward = np.random.normal(actionvals[action],1)\n",
    "        \n",
    "        q[action] = q[action] + .1*(reward - q[action])      \n",
    "        n_a[action]+=1\n",
    "        actionvals = actionvals + np.random.normal(0,.01,ACTIONS)\n",
    "        rewards[step] = reward\n",
    "        optimal = np.argmax(actionvals)\n",
    "        \n",
    "        if(optimal == action):\n",
    "            optimal_per_step[step]+=1\n",
    "            \n",
    "    avg += rewards\n",
    "#     optimals=np.array(optimals)\n",
    "#     optimalavg+=optimals\n",
    "weighted_average = avg/RUNS\n",
    "# optimal_percentage2 = optimalavg/RUNS\n",
    "optimal_per_constant_step = optimal_per_step/RUNS"
   ]
  },
  {
   "cell_type": "markdown",
   "metadata": {},
   "source": [
    "## Average Reward vs Steps Plot"
   ]
  },
  {
   "cell_type": "code",
   "execution_count": 54,
   "metadata": {},
   "outputs": [
    {
     "data": {
      "text/plain": [
       "<matplotlib.legend.Legend at 0x7fe090367048>"
      ]
     },
     "execution_count": 54,
     "metadata": {},
     "output_type": "execute_result"
    },
    {
     "data": {
      "image/png": "[encoded data removed]",
      "text/plain": [
       "<Figure size 432x288 with 1 Axes>"
      ]
     },
     "metadata": {
      "needs_background": "light"
     },
     "output_type": "display_data"
    }
   ],
   "source": [
    "plt.plot(sample_average,color = 'b', label = 'Sample Average' )\n",
    "plt.plot(weighted_average,color='r',label = 'Constant Step Size')\n",
    "plt.legend()"
   ]
  },
  {
   "cell_type": "markdown",
   "metadata": {},
   "source": [
    "## Optimal Action Percentage vs Steps Plot"
   ]
  },
  {
   "cell_type": "code",
   "execution_count": 55,
   "metadata": {},
   "outputs": [
    {
     "data": {
      "text/plain": [
       "<matplotlib.legend.Legend at 0x7fe0903eac50>"
      ]
     },
     "execution_count": 55,
     "metadata": {},
     "output_type": "execute_result"
    },
    {
     "data": {
      "image/png": "[encoded data removed]",
      "text/plain": [
       "<Figure size 432x288 with 1 Axes>"
      ]
     },
     "metadata": {
      "needs_background": "light"
     },
     "output_type": "display_data"
    }
   ],
   "source": [
    "plt.plot(optimal_per_step_sa*100,color = 'b' ,label = 'Sample Average')\n",
    "plt.plot(optimal_per_constant_step*100,color='r',label = 'Constant Step Size')\n",
    "plt.legend()"
   ]
  },
  {
   "cell_type": "markdown",
   "metadata": {},
   "source": [
    "# Q2"
   ]
  },
  {
   "cell_type": "markdown",
   "metadata": {},
   "source": [
    "## (i) Figure 2.3 for stationary"
   ]
  },
  {
   "cell_type": "markdown",
   "metadata": {},
   "source": [
    "### (a) Optimistic Initial Value with greedy approach"
   ]
  },
  {
   "cell_type": "code",
   "execution_count": 95,
   "metadata": {},
   "outputs": [
    {
     "data": {
      "application/vnd.jupyter.widget-view+json": {
       "model_id": "5cc65755cfe640e8bf121d23a0427d14",
       "version_major": 2,
       "version_minor": 0
      },
      "text/plain": [
       "HBox(children=(IntProgress(value=0, max=2000), HTML(value='')))"
      ]
     },
     "metadata": {},
     "output_type": "display_data"
    },
    {
     "name": "stdout",
     "output_type": "stream",
     "text": [
      "\n"
     ]
    }
   ],
   "source": [
    "RUNS = 2000\n",
    "STEPS = 2000\n",
    "ACTIONS = 10\n",
    "avg = np.zeros(STEPS)\n",
    "optimalavg = np.zeros(STEPS)\n",
    "actionvals = np.random.normal(0,1,ACTIONS)\n",
    "optimal_per_step=np.zeros(STEPS)\n",
    "\n",
    "for run in tqdm(range(1,RUNS+1)):\n",
    "    q = np.zeros(ACTIONS) + 10\n",
    "    rewards = np.zeros(STEPS)\n",
    "    n_a = np.ones(ACTIONS)\n",
    "    optimal_percentage = 0\n",
    "    \n",
    "    optimals = []\n",
    "    for step in range(STEPS):\n",
    "        option = 0\n",
    "        selection = np.random.uniform(0,1)\n",
    "        \n",
    "        action = np.argmax(q)  #Exploit \n",
    "\n",
    "        reward = np.random.normal(actionvals[action],1)\n",
    "        \n",
    "        q[action] = q[action] + .1*(reward - q[action])     \n",
    "        n_a[action]+=1\n",
    "\n",
    "        rewards[step] = reward\n",
    "        optimal = np.argmax(actionvals)\n",
    "        if(optimal == action):\n",
    "            optimal_per_step[step]+=1\n",
    "\n",
    "    avg += rewards\n",
    "optimistic_greedy_reward = avg/RUNS\n",
    "optimistic_greedy_per = optimal_per_step/RUNS"
   ]
  },
  {
   "cell_type": "markdown",
   "metadata": {},
   "source": [
    "### (b) Epsilon greedy approach"
   ]
  },
  {
   "cell_type": "code",
   "execution_count": 96,
   "metadata": {},
   "outputs": [
    {
     "data": {
      "application/vnd.jupyter.widget-view+json": {
       "model_id": "d9ef4ff41f62476d8077bc22fe319e0d",
       "version_major": 2,
       "version_minor": 0
      },
      "text/plain": [
       "HBox(children=(IntProgress(value=0, max=2000), HTML(value='')))"
      ]
     },
     "metadata": {},
     "output_type": "display_data"
    },
    {
     "name": "stdout",
     "output_type": "stream",
     "text": [
      "\n"
     ]
    }
   ],
   "source": [
    "RUNS = 2000\n",
    "STEPS = 2000\n",
    "ACTIONS = 10\n",
    "EPSILON = .1\n",
    "avg = np.zeros(STEPS)\n",
    "optimalavg = np.zeros(STEPS)\n",
    "actionvals = np.random.normal(0,1,ACTIONS)\n",
    "optimal_per_step = np.zeros(STEPS)\n",
    "\n",
    "for run in tqdm(range(1,RUNS+1)):\n",
    "    q = np.zeros(ACTIONS)\n",
    "    rewards = np.zeros(STEPS)\n",
    "    n_a = np.ones(ACTIONS)\n",
    "    optimal_percentage = 0\n",
    "    \n",
    "    optimals = []\n",
    "    for step in range(STEPS):\n",
    "        option = 0\n",
    "        selection = np.random.uniform(0,1)\n",
    "        if(selection<EPSILON):\n",
    "            option=1\n",
    "        action = 0\n",
    "        if(option==0):\n",
    "            action = np.argmax(q)  #Exploit\n",
    "        else:\n",
    "            action = np.random.randint(ACTIONS)  #Explore\n",
    "        \n",
    "        reward = np.random.normal(actionvals[action],1)\n",
    "        \n",
    "        q[action] = q[action] + .1*(reward - q[action])      #action value method\n",
    "        n_a[action]+=1\n",
    "        rewards[step] = reward\n",
    "        \n",
    "        optimal = np.argmax(actionvals)\n",
    "        if(optimal == action):\n",
    "            optimal_per_step[step]+=1\n",
    "            \n",
    "\n",
    "    avg += rewards\n",
    "eps_greedy_reward = avg/RUNS\n",
    "eps_greedy_per = optimal_per_step/RUNS"
   ]
  },
  {
   "cell_type": "markdown",
   "metadata": {},
   "source": [
    "### Optimal Action percentage vs Steps plot"
   ]
  },
  {
   "cell_type": "code",
   "execution_count": 98,
   "metadata": {},
   "outputs": [
    {
     "data": {
      "text/plain": [
       "<matplotlib.legend.Legend at 0x7fe08927eb70>"
      ]
     },
     "execution_count": 98,
     "metadata": {},
     "output_type": "execute_result"
    },
    {
     "data": {
      "image/png": "[encoded data removed]",
      "text/plain": [
       "<Figure size 432x288 with 1 Axes>"
      ]
     },
     "metadata": {
      "needs_background": "light"
     },
     "output_type": "display_data"
    }
   ],
   "source": [
    "plt.plot(optimistic_greedy_per,color='r',label = 'Optimistic Initial Values')\n",
    "plt.plot(eps_greedy_per,color='b',label = 'Realistic epsilon greedy')\n",
    "plt.legend()"
   ]
  },
  {
   "cell_type": "markdown",
   "metadata": {},
   "source": [
    "## (ii) Figure 2.3 for non-stationary case"
   ]
  },
  {
   "cell_type": "markdown",
   "metadata": {},
   "source": [
    "### (a) Optimistic Initial Value with greedy approach"
   ]
  },
  {
   "cell_type": "code",
   "execution_count": 71,
   "metadata": {},
   "outputs": [
    {
     "data": {
      "application/vnd.jupyter.widget-view+json": {
       "model_id": "6e83ce3cd6a04e11bcaa160ae7f4a003",
       "version_major": 2,
       "version_minor": 0
      },
      "text/plain": [
       "HBox(children=(IntProgress(value=0, max=2000), HTML(value='')))"
      ]
     },
     "metadata": {},
     "output_type": "display_data"
    },
    {
     "name": "stdout",
     "output_type": "stream",
     "text": [
      "\n"
     ]
    }
   ],
   "source": [
    "RUNS = 2000\n",
    "STEPS = 10000\n",
    "ACTIONS = 10\n",
    "avg = np.zeros(STEPS)\n",
    "optimalavg = np.zeros(STEPS)\n",
    "optimal_per_step = np.zeros(STEPS)\n",
    "\n",
    "for run in tqdm(range(1,RUNS+1)):\n",
    "    q = np.zeros(ACTIONS) + 10\n",
    "    rewards = np.zeros(STEPS)\n",
    "    n_a = np.ones(ACTIONS)\n",
    "    optimal_percentage = 0\n",
    "    actionvals = np.full(ACTIONS,val)\n",
    "    \n",
    "    optimals = []\n",
    "    for step in range(STEPS):\n",
    "        option = 0\n",
    "        selection = np.random.uniform(0,1)\n",
    "        \n",
    "        action = np.argmax(q)  #Exploit\n",
    "\n",
    "        reward = np.random.normal(actionvals[action],1)\n",
    "        \n",
    "        q[action] = q[action] + .1*(reward - q[action])      #action value method\n",
    "        n_a[action]+=1\n",
    "        actionvals = actionvals + np.random.normal(0,.01,ACTIONS)\n",
    "        rewards[step] = reward\n",
    "        \n",
    "        optimal = np.argmax(actionvals)\n",
    "        if(optimal == action):\n",
    "            optimal_per_step[step]+=1\n",
    "            \n",
    "    avg += rewards\n",
    "    \n",
    "optimistic_greedy_nonst = optimal_per_step/RUNS"
   ]
  },
  {
   "cell_type": "markdown",
   "metadata": {},
   "source": [
    "### (b) epsilon greedy approach"
   ]
  },
  {
   "cell_type": "code",
   "execution_count": 84,
   "metadata": {},
   "outputs": [
    {
     "data": {
      "application/vnd.jupyter.widget-view+json": {
       "model_id": "133fc4bbf16844af963ddf6ef0bdfb4d",
       "version_major": 2,
       "version_minor": 0
      },
      "text/plain": [
       "HBox(children=(IntProgress(value=0, max=2000), HTML(value='')))"
      ]
     },
     "metadata": {},
     "output_type": "display_data"
    },
    {
     "name": "stdout",
     "output_type": "stream",
     "text": [
      "\n"
     ]
    }
   ],
   "source": [
    "RUNS = 2000\n",
    "STEPS = 10000\n",
    "ACTIONS = 10\n",
    "EPSILON = .1\n",
    "avg = np.zeros(STEPS)\n",
    "optimalavg = np.zeros(STEPS)\n",
    "optimal_per_step = np.zeros(STEPS)\n",
    "\n",
    "\n",
    "for run in tqdm(range(1,RUNS+1)):\n",
    "    q = np.zeros(ACTIONS)\n",
    "    rewards = np.zeros(STEPS)\n",
    "    n_a = np.ones(ACTIONS)\n",
    "    optimal_percentage = 0\n",
    "    \n",
    "    optimals = []\n",
    "    for step in range(STEPS):\n",
    "        option = 0\n",
    "        selection = np.random.uniform(0,1)\n",
    "        \n",
    "        action = np.argmax(q)\n",
    "        \n",
    "        if(selection<EPSILON):\n",
    "            option=1\n",
    "        action = 0\n",
    "        if(option==0):\n",
    "            action = np.argmax(q)  #Exploit\n",
    "        else:\n",
    "            action = np.random.randint(ACTIONS)  #Explore\n",
    "\n",
    "        reward = np.random.normal(actionvals[action],1)\n",
    "        \n",
    "        q[action] = q[action] + .1*(reward - q[action])      #action value method\n",
    "        n_a[action]+=1\n",
    "        actionvals = actionvals + np.random.normal(0,.01,ACTIONS)\n",
    "        rewards[step] = reward\n",
    "        \n",
    "        optimal = np.argmax(actionvals)\n",
    "        if(optimal == action):\n",
    "            optimal_per_step[step]+=1\n",
    "        \n",
    "    avg += rewards\n",
    "\n",
    "eps_greedy_nonst = optimal_per_step/RUNS"
   ]
  },
  {
   "cell_type": "markdown",
   "metadata": {},
   "source": [
    "### Optimal Action Percentage vs Steps plot"
   ]
  },
  {
   "cell_type": "code",
   "execution_count": 85,
   "metadata": {},
   "outputs": [
    {
     "data": {
      "text/plain": [
       "<matplotlib.legend.Legend at 0x7fe0895992b0>"
      ]
     },
     "execution_count": 85,
     "metadata": {},
     "output_type": "execute_result"
    },
    {
     "data": {
      "image/png": "[encoded data removed]",
      "text/plain": [
       "<Figure size 432x288 with 1 Axes>"
      ]
     },
     "metadata": {
      "needs_background": "light"
     },
     "output_type": "display_data"
    }
   ],
   "source": [
    "plt.plot(optimistic_greedy_nonst,color='r',label='Optimistic greedy')\n",
    "plt.plot(eps_greedy_nonst,color='b',label = 'Epsilon greedy')\n",
    "plt.legend()"
   ]
  },
  {
   "cell_type": "markdown",
   "metadata": {},
   "source": [
    "# Q4 "
   ]
  },
  {
   "cell_type": "markdown",
   "metadata": {},
   "source": [
    "## a) Stationary case"
   ]
  },
  {
   "cell_type": "markdown",
   "metadata": {},
   "source": [
    "### (i) Action Selection using UCB"
   ]
  },
  {
   "cell_type": "code",
   "execution_count": 132,
   "metadata": {},
   "outputs": [],
   "source": [
    "actionvals = np.random.normal(0,1,ACTIONS)"
   ]
  },
  {
   "cell_type": "code",
   "execution_count": 133,
   "metadata": {},
   "outputs": [
    {
     "data": {
      "application/vnd.jupyter.widget-view+json": {
       "model_id": "f394b278e1ca4fa499da952a5719d096",
       "version_major": 2,
       "version_minor": 0
      },
      "text/plain": [
       "HBox(children=(IntProgress(value=0, max=2000), HTML(value='')))"
      ]
     },
     "metadata": {},
     "output_type": "display_data"
    }
   ],
   "source": [
    "RUNS = 2000\n",
    "STEPS = 1000\n",
    "ACTIONS = 10\n",
    "avg = np.zeros(STEPS)\n",
    "optimalavg = np.zeros(STEPS)\n",
    "# actionvals = np.random.normal(0,1,ACTIONS)\n",
    "optimal_per_step = np.zeros(STEPS)\n",
    "\n",
    "for run in tqdm(range(1,RUNS+1)):\n",
    "    q = np.zeros(ACTIONS)\n",
    "    rewards = np.zeros(STEPS)\n",
    "    n_a = np.ones(ACTIONS)\n",
    "    optimal_percentage = 0\n",
    "    \n",
    "    optimals = []\n",
    "    for step in range(STEPS):\n",
    "        option = 0\n",
    "        \n",
    "        action = np.argmax(q + 2*np.sqrt(np.log(step+1)/n_a))  #UCB with C=2\n",
    "\n",
    "        reward = np.random.normal(actionvals[action],1)\n",
    "        \n",
    "        q[action] = q[action] + .1*(reward - q[action])      \n",
    "        n_a[action]+=1\n",
    "        rewards[step] = reward\n",
    "        \n",
    "        optimal = np.argmax(actionvals)\n",
    "        if(optimal == action):\n",
    "            optimal_per_step[step]+=1\n",
    "            \n",
    "    avg += rewards\n",
    "ucb_avg_reward = avg/RUNS\n",
    "ucb_optimal_percentage  = optimal_per_step/RUNS"
   ]
  },
  {
   "cell_type": "markdown",
   "metadata": {},
   "source": [
    "### (ii) Epsilon greedy"
   ]
  },
  {
   "cell_type": "code",
   "execution_count": 134,
   "metadata": {},
   "outputs": [
    {
     "data": {
      "application/vnd.jupyter.widget-view+json": {
       "model_id": "25be740e48424ec59147123b9324d8a9",
       "version_major": 2,
       "version_minor": 0
      },
      "text/plain": [
       "HBox(children=(IntProgress(value=0, max=2000), HTML(value='')))"
      ]
     },
     "metadata": {},
     "output_type": "display_data"
    }
   ],
   "source": [
    "RUNS = 2000\n",
    "STEPS = 1000\n",
    "ACTIONS = 10\n",
    "EPSILON = .1\n",
    "avg = np.zeros(STEPS)\n",
    "optimalavg = np.zeros(STEPS)\n",
    "# actionvals = np.random.normal(0,1,ACTIONS)\n",
    "optimal_per_step = np.zeros(STEPS)\n",
    "\n",
    "for run in tqdm(range(1,RUNS+1)):\n",
    "    q = np.zeros(ACTIONS)\n",
    "    rewards = np.zeros(STEPS)\n",
    "    n_a = np.ones(ACTIONS)\n",
    "    optimal_percentage = 0\n",
    "    \n",
    "    optimals = []\n",
    "    for step in range(STEPS):\n",
    "        option = 0\n",
    "        selection = np.random.uniform(0,1)\n",
    "        if(selection<EPSILON):\n",
    "            option=1\n",
    "        action = 0\n",
    "        if(option==0):\n",
    "            action = np.argmax(q)  #Exploit\n",
    "        else:\n",
    "            action = np.random.randint(ACTIONS)  #Explore\n",
    "        \n",
    "        reward = np.random.normal(actionvals[action],1)\n",
    "        \n",
    "        q[action] = q[action] + .1*(reward - q[action])      #action value method\n",
    "        n_a[action]+=1\n",
    "        rewards[step] = reward\n",
    "        \n",
    "        optimal = np.argmax(actionvals)\n",
    "        if(optimal == action):\n",
    "            optimal_per_step[step]+=1\n",
    "            \n",
    "\n",
    "    avg += rewards\n",
    "eps_greedy_reward = avg/RUNS\n",
    "eps_greedy_per = optimal_per_step/RUNS"
   ]
  },
  {
   "cell_type": "markdown",
   "metadata": {},
   "source": [
    "### (iii) Optimistic greedy"
   ]
  },
  {
   "cell_type": "code",
   "execution_count": 135,
   "metadata": {},
   "outputs": [
    {
     "data": {
      "application/vnd.jupyter.widget-view+json": {
       "model_id": "127a1854b2204a8e90629d3e21b03f35",
       "version_major": 2,
       "version_minor": 0
      },
      "text/plain": [
       "HBox(children=(IntProgress(value=0, max=2000), HTML(value='')))"
      ]
     },
     "metadata": {},
     "output_type": "display_data"
    }
   ],
   "source": [
    "RUNS = 2000\n",
    "STEPS = 1000\n",
    "ACTIONS = 10\n",
    "avg = np.zeros(STEPS)\n",
    "optimalavg = np.zeros(STEPS)\n",
    "# actionvals = np.random.normal(0,1,ACTIONS)\n",
    "optimal_per_step=np.zeros(STEPS)\n",
    "\n",
    "for run in tqdm(range(1,RUNS+1)):\n",
    "    q = np.zeros(ACTIONS) + 10\n",
    "    rewards = np.zeros(STEPS)\n",
    "    n_a = np.ones(ACTIONS)\n",
    "    optimal_percentage = 0\n",
    "    \n",
    "    optimals = []\n",
    "    for step in range(STEPS):\n",
    "        option = 0\n",
    "        \n",
    "        action = np.argmax(q)  #Exploit\n",
    "\n",
    "        reward = np.random.normal(actionvals[action],1)\n",
    "        \n",
    "        q[action] = q[action] + .1*(reward - q[action])      #action value method\n",
    "        n_a[action]+=1\n",
    "\n",
    "        rewards[step] = reward\n",
    "        optimal = np.argmax(actionvals)\n",
    "        if(optimal == action):\n",
    "            optimal_per_step[step]+=1\n",
    "\n",
    "    avg += rewards\n",
    "optimistic_greedy_reward = avg/RUNS\n",
    "optimistic_greedy_per = optimal_per_step/RUNS"
   ]
  },
  {
   "cell_type": "markdown",
   "metadata": {},
   "source": [
    "### Average reward vs Steps for above 3 approaches"
   ]
  },
  {
   "cell_type": "code",
   "execution_count": 136,
   "metadata": {},
   "outputs": [
    {
     "data": {
      "text/plain": [
       "<matplotlib.legend.Legend at 0x7fe088a5eef0>"
      ]
     },
     "execution_count": 136,
     "metadata": {},
     "output_type": "execute_result"
    },
    {
     "data": {
      "image/png": "[encoded data removed]",
      "text/plain": [
       "<Figure size 432x288 with 1 Axes>"
      ]
     },
     "metadata": {
      "needs_background": "light"
     },
     "output_type": "display_data"
    }
   ],
   "source": [
    "plt.plot(ucb_avg_reward,color='r',label = 'ucb')\n",
    "plt.plot(eps_greedy_reward,color='g',label = 'Epsilon greedy')\n",
    "plt.plot(optimistic_greedy_reward,color='b',label='Optimistic greedy')\n",
    "plt.legend()"
   ]
  },
  {
   "cell_type": "markdown",
   "metadata": {},
   "source": [
    "## b) Non stationary"
   ]
  },
  {
   "cell_type": "markdown",
   "metadata": {},
   "source": [
    "### (i) Action selection using UCB"
   ]
  },
  {
   "cell_type": "code",
   "execution_count": 13,
   "metadata": {},
   "outputs": [
    {
     "data": {
      "application/vnd.jupyter.widget-view+json": {
       "model_id": "c9360effccfd466983b7f09b18de6b3f",
       "version_major": 2,
       "version_minor": 0
      },
      "text/plain": [
       "HBox(children=(IntProgress(value=0, max=2000), HTML(value='')))"
      ]
     },
     "metadata": {},
     "output_type": "display_data"
    }
   ],
   "source": [
    "RUNS = 2000\n",
    "STEPS = 5000\n",
    "ACTIONS = 10\n",
    "optimal_per_step = np.zeros(STEPS)\n",
    "avg = np.zeros(STEPS)\n",
    "optimalavg = np.zeros(STEPS)\n",
    "\n",
    "# actionvals = np.random.normal(0,1,ACTIONS)\n",
    "\n",
    "for run in tqdm(range(1,RUNS+1)):\n",
    "    q = np.zeros(ACTIONS)\n",
    "    rewards = np.zeros(STEPS)\n",
    "    n_a = np.ones(ACTIONS)\n",
    "    optimal_percentage = 0\n",
    "    actionvals = np.full(ACTIONS,val)\n",
    "    optimals = []\n",
    "    for step in range(STEPS):\n",
    "        option = 0\n",
    "        \n",
    "        action = np.argmax(q + 2*np.sqrt(np.log(step+1)/n_a))  #UCB with C=2\n",
    "\n",
    "        reward = np.random.normal(actionvals[action],1)\n",
    "        \n",
    "        actionvals = actionvals + np.random.normal(0,.01,ACTIONS)\n",
    "        \n",
    "        q[action] = q[action] + .1*(reward - q[action])      \n",
    "        n_a[action]+=1\n",
    "        rewards[step] = reward\n",
    "        \n",
    "        optimal = np.argmax(actionvals)\n",
    "        if(optimal == action):\n",
    "            optimal_per_step[step]+=1\n",
    "    \n",
    "    avg += rewards\n",
    "    \n",
    "    \n",
    "ucb_reward_nonst = avg/RUNS\n",
    "ucb_per_nonst  = optimal_per_step/RUNS"
   ]
  },
  {
   "cell_type": "markdown",
   "metadata": {},
   "source": [
    "### (ii) Optimistic greedy"
   ]
  },
  {
   "cell_type": "code",
   "execution_count": 14,
   "metadata": {},
   "outputs": [
    {
     "data": {
      "application/vnd.jupyter.widget-view+json": {
       "model_id": "afbd9115d548452c9d92e6c614c10c68",
       "version_major": 2,
       "version_minor": 0
      },
      "text/plain": [
       "HBox(children=(IntProgress(value=0, max=2000), HTML(value='')))"
      ]
     },
     "metadata": {},
     "output_type": "display_data"
    }
   ],
   "source": [
    "RUNS = 2000\n",
    "STEPS = 5000\n",
    "ACTIONS = 10\n",
    "avg = np.zeros(STEPS)\n",
    "optimalavg = np.zeros(STEPS)\n",
    "optimal_per_step = np.zeros(STEPS)\n",
    "\n",
    "for run in tqdm(range(1,RUNS+1)):\n",
    "    q = np.zeros(ACTIONS) + 10\n",
    "    rewards = np.zeros(STEPS)\n",
    "    n_a = np.ones(ACTIONS)\n",
    "    optimal_percentage = 0\n",
    "    actionvals = np.full(ACTIONS,val)\n",
    "    \n",
    "    optimals = []\n",
    "    for step in range(STEPS):\n",
    "        option = 0\n",
    "        \n",
    "        action = np.argmax(q)  #Exploit\n",
    "\n",
    "        reward = np.random.normal(actionvals[action],1)\n",
    "        \n",
    "        q[action] = q[action] + .1*(reward - q[action])      #action value method\n",
    "        n_a[action]+=1\n",
    "        actionvals = actionvals + np.random.normal(0,.01,ACTIONS)\n",
    "        rewards[step] = reward\n",
    "        \n",
    "        optimal = np.argmax(actionvals)\n",
    "        if(optimal == action):\n",
    "            optimal_per_step[step]+=1\n",
    "            \n",
    "    avg += rewards\n",
    "    \n",
    "optimistic_greedy_reward_nonst = avg/RUNS\n",
    "optimistic_greedy_per_nonst = optimal_per_step/RUNS"
   ]
  },
  {
   "cell_type": "markdown",
   "metadata": {},
   "source": [
    "### (iii) Epsilon greedy"
   ]
  },
  {
   "cell_type": "code",
   "execution_count": 15,
   "metadata": {},
   "outputs": [
    {
     "data": {
      "application/vnd.jupyter.widget-view+json": {
       "model_id": "2fff95443cc5482ca1ee39aea2f89981",
       "version_major": 2,
       "version_minor": 0
      },
      "text/plain": [
       "HBox(children=(IntProgress(value=0, max=2000), HTML(value='')))"
      ]
     },
     "metadata": {},
     "output_type": "display_data"
    }
   ],
   "source": [
    "RUNS = 2000\n",
    "STEPS = 5000\n",
    "ACTIONS = 10\n",
    "EPSILON = .1\n",
    "avg = np.zeros(STEPS)\n",
    "optimalavg = np.zeros(STEPS)\n",
    "optimal_per_step = np.zeros(STEPS)\n",
    "\n",
    "\n",
    "for run in tqdm(range(1,RUNS+1)):\n",
    "    q = np.zeros(ACTIONS)\n",
    "    rewards = np.zeros(STEPS)\n",
    "    n_a = np.ones(ACTIONS)\n",
    "    optimal_percentage = 0\n",
    "    actionvals = np.full(ACTIONS,val)\n",
    "    \n",
    "    \n",
    "    optimals = []\n",
    "    for step in range(STEPS):\n",
    "        option = 0\n",
    "        selection = np.random.uniform(0,1)\n",
    "        \n",
    "        action = np.argmax(q)\n",
    "        \n",
    "        if(selection<EPSILON):\n",
    "            option=1\n",
    "        action = 0\n",
    "        if(option==0):\n",
    "            action = np.argmax(q)  #Exploit\n",
    "        else:\n",
    "            action = np.random.randint(ACTIONS)  #Explore\n",
    "\n",
    "        reward = np.random.normal(actionvals[action],1)\n",
    "        \n",
    "        q[action] = q[action] + .1*(reward - q[action])      #action value method\n",
    "        n_a[action]+=1\n",
    "        actionvals = actionvals + np.random.normal(0,.01,ACTIONS)\n",
    "        rewards[step] = reward\n",
    "        \n",
    "        optimal = np.argmax(actionvals)\n",
    "        if(optimal == action):\n",
    "            optimal_per_step[step]+=1\n",
    "        \n",
    "    avg += rewards\n",
    "\n",
    "eps_greedy_rew_nonst = avg/RUNS\n",
    "eps_greedy_per_nonst = optimal_per_step/RUNS"
   ]
  },
  {
   "cell_type": "markdown",
   "metadata": {},
   "source": [
    "### Average reward plot vs steps for the above 3 approaches"
   ]
  },
  {
   "cell_type": "code",
   "execution_count": 19,
   "metadata": {},
   "outputs": [
    {
     "data": {
      "text/plain": [
       "<matplotlib.legend.Legend at 0x7ff10d7dfe10>"
      ]
     },
     "execution_count": 19,
     "metadata": {},
     "output_type": "execute_result"
    },
    {
     "data": {
      "image/png": "[encoded data removed]",
      "text/plain": [
       "<Figure size 432x288 with 1 Axes>"
      ]
     },
     "metadata": {
      "needs_background": "light"
     },
     "output_type": "display_data"
    }
   ],
   "source": [
    "plt.plot(ucb_reward_nonst,color='r',label = 'ucb')\n",
    "plt.plot(eps_greedy_rew_nonst,color='g',label = 'Epsilon greedy')\n",
    "plt.plot(optimistic_greedy_reward_nonst,color='b',label='Optimistic greedy')\n",
    "plt.legend()"
   ]
  },
  {
   "cell_type": "code",
   "execution_count": null,
   "metadata": {},
   "outputs": [],
   "source": []
  }
 ],
 "metadata": {
  "kernelspec": {
   "display_name": "Python 3",
   "language": "python",
   "name": "python3"
  },
  "language_info": {
   "codemirror_mode": {
    "name": "ipython",
    "version": 3
   },
   "file_extension": ".py",
   "mimetype": "text/x-python",
   "name": "python",
   "nbconvert_exporter": "python",
   "pygments_lexer": "ipython3",
   "version": "3.6.8"
  }
 },
 "nbformat": 4,
 "nbformat_minor": 2
}
